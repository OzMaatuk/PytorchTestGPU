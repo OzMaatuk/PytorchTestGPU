{
 "cells": [
  {
   "cell_type": "code",
   "execution_count": null,
   "metadata": {},
   "outputs": [],
   "source": [
    "pip install --upgrade pip\n",
    "pip install torch\n",
    "pip install numpy"
   ]
  },
  {
   "cell_type": "code",
   "execution_count": 1,
   "metadata": {},
   "outputs": [],
   "source": [
    "import torch"
   ]
  },
  {
   "cell_type": "code",
   "execution_count": 2,
   "metadata": {},
   "outputs": [
    {
     "data": {
      "text/plain": [
       "True"
      ]
     },
     "execution_count": 2,
     "metadata": {},
     "output_type": "execute_result"
    }
   ],
   "source": [
    "# Check if a GPU is available\n",
    "torch.cuda.is_available()"
   ]
  },
  {
   "cell_type": "code",
   "execution_count": 3,
   "metadata": {},
   "outputs": [
    {
     "name": "stdout",
     "output_type": "stream",
     "text": [
      "GPU name: NVIDIA GeForce GTX 1660 Ti\n",
      "GPU memory: 6442123264\n",
      "Mean: tensor(0.0003, device='cuda:0')\n"
     ]
    }
   ],
   "source": [
    "device = torch.device(\"cuda\" if torch.cuda.is_available() else \"cpu\")\n",
    "\n",
    "# Print the GPU name and memory\n",
    "if device.type == \"cuda\":\n",
    "    print(\"GPU name:\", torch.cuda.get_device_name(device))\n",
    "    print(\"GPU memory:\", torch.cuda.get_device_properties(device).total_memory)\n",
    "else:\n",
    "    print(\"No GPU available\")\n",
    "\n",
    "# Create a random tensor on the GPU\n",
    "tensor = torch.randn((10000, 1000), device=device)\n",
    "\n",
    "# Compute the mean of the tensor\n",
    "mean = tensor.mean()\n",
    "\n",
    "# Print the mean\n",
    "print(\"Mean:\", mean)"
   ]
  },
  {
   "cell_type": "code",
   "execution_count": 4,
   "metadata": {},
   "outputs": [
    {
     "name": "stdout",
     "output_type": "stream",
     "text": [
      "Execution time: 0.07747030258178711\n"
     ]
    }
   ],
   "source": [
    "import numpy as np\n",
    "import time\n",
    "\n",
    "# Create a large random array\n",
    "array = np.random.randn(10000000)\n",
    "\n",
    "# Copy the array to the GPU\n",
    "gpu_array = torch.tensor(array, device=\"cuda\")\n",
    "\n",
    "# Start the timer\n",
    "start = time.time()\n",
    "\n",
    "# Compute the sum of the elements of the array on the GPU\n",
    "sum = gpu_array.sum()\n",
    "\n",
    "# Stop the timer\n",
    "end = time.time()\n",
    "\n",
    "# Print the execution time\n",
    "print(\"Execution time:\", end - start)"
   ]
  },
  {
   "cell_type": "code",
   "execution_count": null,
   "metadata": {},
   "outputs": [],
   "source": []
  }
 ],
 "metadata": {
  "kernelspec": {
   "display_name": "Python 3",
   "language": "python",
   "name": "python3"
  },
  "language_info": {
   "codemirror_mode": {
    "name": "ipython",
    "version": 3
   },
   "file_extension": ".py",
   "mimetype": "text/x-python",
   "name": "python",
   "nbconvert_exporter": "python",
   "pygments_lexer": "ipython3",
   "version": "3.10.0"
  }
 },
 "nbformat": 4,
 "nbformat_minor": 2
}
